{
 "cells": [
  {
   "cell_type": "code",
   "metadata": {
    "cell_id": "00000-1cd47f89-5d5d-4272-8c75-2db2ba812ead"
   },
   "source": [
    "import numpy as np\n",
    "import pandas as pd\n",
    "import matplotlib.pyplot as plt\n",
    "from dpll import find_model"
   ],
   "execution_count": 1,
   "outputs": []
  },
  {
   "cell_type": "code",
   "source": [
    "a = find_model(\"uf20-02.cnf\")"
   ],
   "metadata": {
    "tags": [],
    "cell_id": "00001-6e4c35df-16d6-4452-9a92-c84b14f8f5dd"
   },
   "outputs": [
    {
     "name": "stdout",
     "output_type": "stream",
     "text": [
      "SAT\n",
      "Model = [1, -2, -3, -4, -6, 7, 8, 9, -10, -11, -12, -13, 14, 16, -17, -18, 19, -20]\n",
      "Possible missing literals can have arbitrarily value.\n",
      "Total CPU time = 0.03789925575256348 seconds\n",
      "Number of decisions = 6\n",
      "Number of steps of unit propagation = 12\n"
     ]
    }
   ],
   "execution_count": 3
  },
  {
   "cell_type": "code",
   "execution_count": 4,
   "outputs": [
    {
     "name": "stdout",
     "output_type": "stream",
     "text": [
      "(True, [1, -2, -3, -4, -6, 7, 8, 9, -10, -11, -12, -13, 14, 16, -17, -18, 19, -20], 0.03789925575256348, 6, 12)\n"
     ]
    }
   ],
   "source": [
    "print(a)"
   ],
   "metadata": {
    "collapsed": false,
    "pycharm": {
     "name": "#%%\n"
    }
   }
  },
  {
   "cell_type": "code",
   "metadata": {
    "tags": [],
    "cell_id": "00001-be2483c7-2e93-4a52-847e-8847c2d22c0d"
   },
   "source": [
    "files = [\"uf20-01.cnf\", \"uf20-02.cnf\", \"uf20-03.cnf\", \"uf20-04.cnf\", \"uf50-01.cnf\", \"uf50-02.cnf\", \n",
    "\"uf50-03.cnf\", \"uf50-04.cnf\", \"uf75-06.cnf\", \"uf75-012.cnf\", \"uf75-018.cnf\", \"uf75-025.cnf\", \n",
    "\"uf100-025.cnf\", \"uf100-037.cnf\", \"uf100-048.cnf\", \"uf100-066.cnf\", \"uf125-011.cnf\", \"uf125-033.cnf\", \n",
    "\"uf125-046.cnf\", \"uf125-063.cnf\", \"uf150-016.cnf\", \"uf150-024.cnf\", \"uf150-032.cnf\", \"uf150-040.cnf\", \n",
    "\"uf175-012.cnf\", \"uf175-020.cnf\", \"uf175-032.cnf\", \"uf175-056.cnf\", \"uuf50-01.cnf\", \"uuf50-07.cnf\", \n",
    "\"uuf50-014.cnf\", \"uuf50-018.cnf\", \"uuf75-014.cnf\", \"uuf75-019.cnf\", \"uuf75-025.cnf\", \"uuf75-031.cnf\", \n",
    "\"uuf100-012.cnf\", \"uuf100-017.cnf\", \"uuf100-025.cnf\", \"uuf100-035.cnf\", \"uuf125-040.cnf\", \n",
    "\"uuf125-050.cnf\", \"uuf125-055.cnf\", \"uuf125-070.cnf\", \"uuf150-020.cnf\", \"uuf150-034.cnf\", \n",
    "\"uuf150-042.cnf\", \"uuf150-050.cnf\", \"uuf175-040.cnf\", \"uuf175-048.cnf\", \"uuf175-061.cnf\", \n",
    "\"uuf175-076.cnf\"]"
   ],
   "execution_count": null,
   "outputs": []
  },
  {
   "cell_type": "code",
   "execution_count": null,
   "outputs": [],
   "source": [
    "cpu_time = []\n",
    "\n",
    "for file in files:\n",
    "    times = []\n",
    "    for i in range(3):\n",
    "        times.append(find_model(file)[2])\n",
    "\n",
    "    cpu_time.append(times)\n",
    "\n",
    "print(cpu_time)\n"
   ],
   "metadata": {
    "collapsed": false,
    "pycharm": {
     "name": "#%%\n"
    }
   }
  },
  {
   "cell_type": "code",
   "metadata": {
    "tags": [],
    "cell_id": "00002-cf86b3a4-03e0-46ee-acdf-457b3bed418c"
   },
   "source": [
    "cpu_time"
   ],
   "execution_count": null,
   "outputs": []
  },
  {
   "cell_type": "code",
   "metadata": {
    "tags": [],
    "cell_id": "00003-875aaac0-8a7e-48c0-8969-b8d1b46207ba"
   },
   "source": "np_cpu_time = np.array(cpu_time)\ntime = np.mean(np_cpu_time, axis=1)",
   "execution_count": null,
   "outputs": []
  },
  {
   "cell_type": "code",
   "metadata": {
    "tags": [],
    "cell_id": "00004-8884ba07-75c8-4fd6-9e98-e1e518ceab92"
   },
   "source": "s = pd.Series(data=time, index=files)\ns",
   "execution_count": null,
   "outputs": []
  },
  {
   "cell_type": "code",
   "metadata": {
    "tags": [],
    "cell_id": "00006-bf6c3a32-e2e0-4e87-bba7-b805eb223334"
   },
   "source": "",
   "execution_count": null,
   "outputs": []
  }
 ],
 "nbformat": 4,
 "nbformat_minor": 2,
 "metadata": {
  "kernelspec": {
   "display_name": "Python 3",
   "language": "python",
   "name": "python3"
  },
  "language_info": {
   "codemirror_mode": {
    "name": "ipython",
    "version": 3
   },
   "file_extension": ".py",
   "mimetype": "text/x-python",
   "name": "python",
   "nbconvert_exporter": "python",
   "pygments_lexer": "ipython3",
   "version": "3.6.3"
  },
  "deepnote_notebook_id": "ef76c68e-cd37-4ccb-ba50-fa0efd81ac4d",
  "deepnote_execution_queue": []
 }
}